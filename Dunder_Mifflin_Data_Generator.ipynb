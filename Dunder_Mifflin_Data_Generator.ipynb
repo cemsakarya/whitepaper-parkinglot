{
  "cells": [
    {
      "cell_type": "markdown",
      "metadata": {
        "id": "view-in-github",
        "colab_type": "text"
      },
      "source": [
        "<a href=\"https://colab.research.google.com/github/cemsakarya/whitepaper-parkinglot/blob/main/Dunder_Mifflin_Data_Generator.ipynb\" target=\"_parent\"><img src=\"https://colab.research.google.com/assets/colab-badge.svg\" alt=\"Open In Colab\"/></a>"
      ]
    },
    {
      "cell_type": "code",
      "execution_count": 28,
      "metadata": {
        "id": "yp4OT30SKbeG",
        "scrolled": true
      },
      "outputs": [],
      "source": [
        "import pandas as pd\n",
        "import numpy as np\n",
        "import random\n",
        "import re\n",
        "random.seed(2704)\n",
        "number_of_rows = 10_000\n",
        "from datetime import datetime\n",
        "from datetime import timedelta\n",
        "import requests\n",
        "from bs4 import BeautifulSoup\n",
        "import uuid"
      ]
    },
    {
      "cell_type": "markdown",
      "metadata": {
        "id": "xNt-kkhVWMWh"
      },
      "source": [
        "## Parsing the Wikipedia page for Paper Products and Pennsylvania Counties"
      ]
    },
    {
      "cell_type": "code",
      "execution_count": 29,
      "metadata": {
        "id": "UbSHXWk_WMWj"
      },
      "outputs": [],
      "source": [
        "def find_between( s, first, last ):\n",
        "    try:\n",
        "        start = s.index( first ) + len( first )\n",
        "        end = s.index( last, start )\n",
        "        return s[start:end]\n",
        "    except ValueError:\n",
        "        return \"\""
      ]
    },
    {
      "cell_type": "code",
      "execution_count": 30,
      "metadata": {
        "id": "WkN-AutPWMWj"
      },
      "outputs": [],
      "source": [
        "response = requests.get(\n",
        "url='https://en.wikipedia.org/wiki/Category:Paper_products',\n",
        ")\n",
        "soup = BeautifulSoup(response.content, 'html.parser')\n",
        "\n",
        "# Get all the links\n",
        "allLinks = soup.find(id=\"bodyContent\").find_all(\"a\")\n",
        "random.shuffle(allLinks)\n",
        "linkToScrape = 0\n",
        "\n",
        "list_of_products = []\n",
        "for i in allLinks:\n",
        "    if str(i)[:15] == \"\"\"<a href=\"/wiki/\"\"\":\n",
        "        try:\n",
        "            s = find_between( str(i), \"\"\"href=\"/wiki/\"\"\", \"\"\"\" title=\"\"\" )\n",
        "            if \"category\" in s.lower():\n",
        "                pass\n",
        "            else:\n",
        "                list_of_products += [s]\n",
        "        except:\n",
        "            continue"
      ]
    },
    {
      "cell_type": "code",
      "execution_count": 31,
      "metadata": {
        "scrolled": true,
        "colab": {
          "base_uri": "https://localhost:8080/"
        },
        "id": "J--cWvvgWMWk",
        "outputId": "b01fb2a4-4d25-4d28-d2b1-d92f988c2860"
      },
      "outputs": [
        {
          "output_type": "stream",
          "name": "stdout",
          "text": [
            "Number of Products: 100\n",
            "\n",
            "10 Examples\n",
            "\n",
            "Chinet\n",
            "Anaglypta\n",
            "Holy_card\n",
            "Receipt\n",
            "Ticket_(admission)\n",
            "Softwall\n",
            "Duo-Tang\n",
            "Coffee_cup_sleeve\n",
            "Passbook\n",
            "Container_compression_test\n"
          ]
        }
      ],
      "source": [
        "print(f\"Number of Products: {len(list_of_products)}\")\n",
        "print('\\n10 Examples\\n')\n",
        "print(*list_of_products[:10], sep='\\n')"
      ]
    },
    {
      "cell_type": "code",
      "execution_count": 32,
      "metadata": {
        "id": "YPa_czLMWMWl"
      },
      "outputs": [],
      "source": [
        "response = requests.get(\n",
        "url='https://en.wikipedia.org/wiki/List_of_counties_in_Pennsylvania',\n",
        ")\n",
        "soup = BeautifulSoup(response.content, 'html.parser')\n",
        "\n",
        "# Get all the links\n",
        "allLinks = soup.find(id=\"bodyContent\").find_all(\"a\")\n",
        "random.shuffle(allLinks)\n",
        "linkToScrape = 0\n",
        "\n",
        "list_of_counties = []\n",
        "for i in allLinks:\n",
        "    if str(i)[:15] == \"\"\"<a href=\"/wiki/\"\"\":\n",
        "        try:\n",
        "            s = find_between( str(i), \"\"\"href=\"/wiki/\"\"\", \"\"\"\" title=\"\"\" )\n",
        "            if \"category\" in s.lower():\n",
        "                pass\n",
        "            elif not \"_pennsylvania\" in s.lower():\n",
        "                pass\n",
        "            else:\n",
        "                list_of_counties += [s]\n",
        "        except:\n",
        "            continue"
      ]
    },
    {
      "cell_type": "markdown",
      "metadata": {
        "id": "0rwa6i8cWMWm"
      },
      "source": [
        "## Datetime"
      ]
    },
    {
      "cell_type": "code",
      "execution_count": 33,
      "metadata": {
        "id": "OcHR-T6XS0xH"
      },
      "outputs": [],
      "source": [
        "import random\n",
        "import time\n",
        "    \n",
        "def str_time_prop(start, end, time_format, prop):\n",
        "    \"\"\"Get a time at a proportion of a range of two formatted times.\n",
        "\n",
        "    start and end should be strings specifying times formatted in the\n",
        "    given format (strftime-style), giving an interval [start, end].\n",
        "    prop specifies how a proportion of the interval to be taken after\n",
        "    start.  The returned time will be in the specified format.\n",
        "    \"\"\"\n",
        "\n",
        "    stime = time.mktime(time.strptime(start, time_format))\n",
        "    etime = time.mktime(time.strptime(end, time_format))\n",
        "\n",
        "    ptime = stime + prop * (etime - stime)\n",
        "\n",
        "    return time.strftime(time_format, time.localtime(ptime))\n",
        "\n",
        "\n",
        "def random_date(start, end, prop):\n",
        "    return str_time_prop(start, end, '%m/%d/%Y %I:%M %p', prop)"
      ]
    },
    {
      "cell_type": "code",
      "execution_count": 34,
      "metadata": {
        "id": "zBHYIfagWMWn"
      },
      "outputs": [],
      "source": [
        "list_of_salesman = [\"Dwight Schrute\", \"Jim Halpert\", \"Stanley Hudson\", \"Phyllis Vance\", \"Andrew Bernard\"]"
      ]
    },
    {
      "cell_type": "code",
      "execution_count": 35,
      "metadata": {
        "id": "Jv2CY0KEWMWn"
      },
      "outputs": [],
      "source": [
        "list_of_accountants = [\"Kevin Malone\", \"Angela Martin\", \"Oscar Martinez\"]"
      ]
    },
    {
      "cell_type": "code",
      "execution_count": 36,
      "metadata": {
        "id": "1G-U_iQiWMWo"
      },
      "outputs": [],
      "source": [
        "prices_of_products = dict(zip(list_of_products, np.random.randint(10,200,size=(number_of_rows, 1)[0])))"
      ]
    },
    {
      "cell_type": "markdown",
      "metadata": {
        "id": "QhiiyNNzWMWo"
      },
      "source": [
        "## Customers"
      ]
    },
    {
      "cell_type": "code",
      "execution_count": 37,
      "metadata": {
        "id": "mTfoGDxDWMWo"
      },
      "outputs": [],
      "source": [
        "word_site = \"https://www.mit.edu/~ecprice/wordlist.100000\"\n",
        "\n",
        "response = requests.get(word_site)\n",
        "WORDS = response.content.splitlines()\n",
        "\n",
        "def business_name_generator():\n",
        "    word = random.choice(WORDS)\n",
        "    WORDS.remove(word)\n",
        "    return word.decode(\"utf-8\")  + \".inc\""
      ]
    },
    {
      "cell_type": "code",
      "execution_count": 38,
      "metadata": {
        "colab": {
          "base_uri": "https://localhost:8080/"
        },
        "id": "y3wTCvcfWMWp",
        "outputId": "48e6a207-4fda-4109-8cd0-0defb20efee5"
      },
      "outputs": [
        {
          "output_type": "stream",
          "name": "stdout",
          "text": [
            "Requirement already satisfied: names in /usr/local/lib/python3.7/dist-packages (0.3.0)\n"
          ]
        }
      ],
      "source": [
        "!pip install names\n",
        "import names\n",
        "\n",
        "def name_generator():\n",
        "    return names.get_full_name()"
      ]
    },
    {
      "cell_type": "code",
      "execution_count": 39,
      "metadata": {
        "id": "WOnRYPTQWMWp"
      },
      "outputs": [],
      "source": [
        "list_of_job_titles = [\"General Manager\",\"Administrative Assistant\",\"Executive Assistant\",\"Marketing Manager\",\n",
        "              \"Customer Service Representative\",\"Nurse Practitioner\",\n",
        "              \"Sales Manager\",\"Data Entry Clerk\",\"Office Assistant\", \"Supply Manager\", \"Supply Manager\", np.nan]"
      ]
    },
    {
      "cell_type": "code",
      "execution_count": 40,
      "metadata": {
        "id": "BQ9qyuspWMWp"
      },
      "outputs": [],
      "source": [
        "class _customer:\n",
        "    def __init__(self):\n",
        "        self.name = business_name_generator()\n",
        "        self.customer_id = uuid.uuid4().hex\n",
        "        self.county = random.choice(list_of_counties)\n",
        "        self.Main_Customer_Representative = name_generator()\n",
        "        self.Secondary_Customer_Representative = name_generator()\n",
        "        self.Tertiary_Customer_Representative = name_generator()\n",
        "        self.Main_Customer_Representative_Job_Title  = random.choice(list_of_job_titles)\n",
        "        self.Secondary_Customer_Representative_Job_Title  = random.choice(list_of_job_titles)\n",
        "        self.Tertiary_Customer_Representative_Job_Title   = random.choice(list_of_job_titles)\n",
        "        self.salesman = random.choice(list_of_salesman)"
      ]
    },
    {
      "cell_type": "code",
      "execution_count": 41,
      "metadata": {
        "id": "NLnR4QULWMWp"
      },
      "outputs": [],
      "source": [
        "i = 0\n",
        "customer_df = pd.DataFrame([])\n",
        "while i < 500:\n",
        "    customer = _customer()\n",
        "    temp = pd.DataFrame([[customer.name, customer.customer_id, customer.county, customer.Main_Customer_Representative,\n",
        "                    customer.Secondary_Customer_Representative, customer.Tertiary_Customer_Representative,\n",
        "                    customer.Main_Customer_Representative_Job_Title, customer.Secondary_Customer_Representative_Job_Title,\n",
        "                    customer.Tertiary_Customer_Representative_Job_Title, customer.salesman]])\n",
        "    \n",
        "    customer_df = customer_df.append(temp) \n",
        "    i += 1"
      ]
    },
    {
      "cell_type": "code",
      "execution_count": 42,
      "metadata": {
        "id": "M65I-euTWMWq"
      },
      "outputs": [],
      "source": [
        "customer_df.columns = [\"name\", \"customer_id\", \"county\", \"Main_Customer_Representative\",\n",
        "                    \"Secondary_Customer_Representative\", \"Tertiary_Customer_Representative\",\n",
        "                    \"Main_Customer_Representative_Job_Title\", \"Secondary_Customer_Representative_Job_Title\",\n",
        "                    \"Tertiary_Customer_Representative_Job_Title\", \"Salesman\"]"
      ]
    },
    {
      "cell_type": "markdown",
      "metadata": {
        "id": "1Fy5jR-vWMWq"
      },
      "source": [
        "## Sales"
      ]
    },
    {
      "cell_type": "code",
      "execution_count": 43,
      "metadata": {
        "id": "3T3j4whTWMWq"
      },
      "outputs": [],
      "source": [
        "class _sales:\n",
        "    def __init__(self, salesman, customer_representative, customer_id):\n",
        "        self.sales_id = uuid.uuid4().hex\n",
        "        self.sales_datetime_str = random_date(\"1/1/2008 12:00 PM\", \"1/1/2010 12:00 PM\", random.random())\n",
        "        \n",
        "        self.sales_datetime = datetime.strptime(self.sales_datetime_str, '%m/%d/%Y %I:%M %p')\n",
        "        self.product = random.choice(list_of_products)\n",
        "        self.number_of_units = np.random.randint(100,2000,size=(1, 1))[0][0]\n",
        "        self.price_by_unit = prices_of_products[self.product]\n",
        "        self.revenue = self.number_of_units * self.price_by_unit\n",
        "\n",
        "        self.salesman = salesman\n",
        "        \n",
        "        self.delivery_how_many_days_later = timedelta(days = int(np.random.randint(1,30,size=(1, 1))[0][0])  )\n",
        "        self.delivery_date = ((self.sales_datetime + self.delivery_how_many_days_later).date()).strftime(\"%m/%d/%Y\")\n",
        "        \n",
        "        self.data_entry_how_many_days_later = timedelta(days = int(np.random.randint(1,10,size=(1, 1))[0][0])  )\n",
        "        self.data_entry_date = ((self.sales_datetime + self.data_entry_how_many_days_later).date()).strftime(\"%m/%d/%Y\")\n",
        "        self.data_entry_officer = random.choice(list_of_accountants)\n",
        "        \n",
        "        self.customer_representative = customer_representative\n",
        "        self.customer_id = customer_id"
      ]
    },
    {
      "cell_type": "code",
      "execution_count": 44,
      "metadata": {
        "id": "E2bUy-3bWMWr"
      },
      "outputs": [],
      "source": [
        "i = 0\n",
        "sales_df = pd.DataFrame([])\n",
        "while i < number_of_rows:\n",
        "    \n",
        "    salesman = random.choice(list_of_salesman)\n",
        "    customer_id = random.choice(customer_df[customer_df[\"Salesman\"] == salesman][\"customer_id\"].tolist())\n",
        "    customer_representative = random.choice(customer_df[customer_df[\"customer_id\"] == customer_id][\"Main_Customer_Representative\"].tolist() + customer_df[customer_df[\"customer_id\"] == customer_id][\"Secondary_Customer_Representative\"].tolist() + customer_df[customer_df[\"customer_id\"] == customer_id][\"Tertiary_Customer_Representative\"].tolist())\n",
        "    \n",
        "    sale = _sales(salesman, customer_representative, customer_id)\n",
        "    temp = pd.DataFrame([[ sale.sales_id,  sale.sales_datetime_str, sale.sales_datetime, sale.product, \n",
        "                          sale.number_of_units, sale.price_by_unit, sale.revenue,\n",
        "                            sale.salesman, sale.delivery_how_many_days_later,\n",
        "                            sale.delivery_date, sale.data_entry_how_many_days_later, sale.data_entry_date, \n",
        "                          sale.data_entry_officer, sale.customer_representative, sale.customer_id]])\n",
        "    \n",
        "    sales_df = sales_df.append(temp) \n",
        "    i += 1"
      ]
    },
    {
      "cell_type": "code",
      "execution_count": 45,
      "metadata": {
        "id": "ykyduIB-WMWr"
      },
      "outputs": [],
      "source": [
        "sales_df.columns = [\"Order ID\",\"Order Entry Datetime Str\",\"Order Entry Datetime\",\"Product\",\"# of Units\", \"Revenue\",\n",
        "                    \"Price by Unit\",\"Salesman\",\n",
        "                          \"Delivery How Many Dates Later\", \"Delivery Date\", \n",
        "                    \"Data Entry How Many Dates Later\",\n",
        "                    \"Data Entry Date\", \"Data Entry Officer\", \"Customer Representative\", \"Customer ID\"]"
      ]
    },
    {
      "cell_type": "markdown",
      "metadata": {
        "id": "xvYuSkSdWMWr"
      },
      "source": [
        "## Warehouse"
      ]
    },
    {
      "cell_type": "code",
      "execution_count": 46,
      "metadata": {
        "id": "AMlYDA-UWMWr"
      },
      "outputs": [],
      "source": [
        "class _warehouse:\n",
        "    def __init__(self, order_id, order_date, latency_customer):\n",
        "        self.order_id = order_id\n",
        "        self.order_date = datetime.strptime(order_date, '%m/%d/%Y %I:%M %p')\n",
        "        self.latency_customer = latency_customer\n",
        "        self.quality_control = None   \n",
        "        \n",
        "        self.latency_load = timedelta(days = int(np.random.randint(0,5,size=(1, 1))[0][0]))      \n",
        "        \n",
        "        self.load_date = ((self.order_date + self.latency_customer + self.latency_load).date()).strftime(\"%m/%d/%Y\")       \n",
        "        \n",
        "        self.latency_delivery = timedelta(days = int(np.random.randint(0,5,size=(1, 1))[0][0])) \n",
        "        \n",
        "        \n",
        "        self.delivery_date = ((self.order_date + self.latency_customer + self.latency_load + self.latency_delivery).date()).strftime(\"%m/%d/%Y\")"
      ]
    },
    {
      "cell_type": "code",
      "execution_count": 47,
      "metadata": {
        "id": "uW4-Y2BYWMWr"
      },
      "outputs": [],
      "source": [
        "i = 0\n",
        "warehouse_logs = pd.DataFrame([])\n",
        "for index, row in sales_df.iterrows():\n",
        "    log = _warehouse(row[\"Order ID\"], row[\"Order Entry Datetime Str\"], row[\"Delivery How Many Dates Later\"])\n",
        "    \n",
        "    temp = pd.DataFrame([[ log.order_id, log.order_date, log.latency_customer, log.quality_control,\n",
        "                         log.latency_load, log.load_date, log.latency_delivery, log.delivery_date]])\n",
        "    \n",
        "    warehouse_logs = warehouse_logs.append(temp)"
      ]
    },
    {
      "cell_type": "code",
      "execution_count": 48,
      "metadata": {
        "id": "EP9ATKk0WMWs"
      },
      "outputs": [],
      "source": [
        "warehouse_logs.columns = [\"Order ID\", \n",
        "                          \"Order Date\",\n",
        "                          \"Latency Customer\",\n",
        "                          \"Quality Control Check is Done\",\n",
        "                          \"Latency Load\",\n",
        "                          \"Load Date\",\n",
        "                          \"Latency Delivery\",\n",
        "                          \"Delivery Date\"]"
      ]
    },
    {
      "cell_type": "code",
      "execution_count": 49,
      "metadata": {
        "colab": {
          "base_uri": "https://localhost:8080/"
        },
        "id": "-7XrjzPmWMWs",
        "outputId": "861bf79a-ea6f-46d1-b1e0-c4e4f6f76285"
      },
      "outputs": [
        {
          "output_type": "execute_result",
          "data": {
            "text/plain": [
              "Index(['Order ID', 'Order Date', 'Latency Customer',\n",
              "       'Quality Control Check is Done', 'Latency Load', 'Load Date',\n",
              "       'Latency Delivery', 'Delivery Date'],\n",
              "      dtype='object')"
            ]
          },
          "metadata": {},
          "execution_count": 49
        }
      ],
      "source": [
        "warehouse_logs.columns"
      ]
    },
    {
      "cell_type": "markdown",
      "source": [
        "##Payments - Accounts Receivable"
      ],
      "metadata": {
        "id": "72xM5c6-Xybu"
      }
    },
    {
      "cell_type": "code",
      "source": [
        "class account:\n",
        "  def __init__(self, customer_id, datetime):\n",
        "    self.customer_id  = customer_id\n",
        "    self.sales_amount = sales_df[(sales_df[\"Customer ID\"] == customer_id) & (sales_df[\"Order Entry Datetime\"] < datetime)][\"Revenue\"].sum()\n",
        "    self.payments_amount =  payments_df[(payments_df[\"Customer ID\"] == customer_id) & (payments_df[\"Payments Datetime\"] < datetime)][\"Payment Amount\"].sum()\n",
        "    self.amount_due = self.sales_amount - self.payments_amount"
      ],
      "metadata": {
        "id": "gh6Jw8rYX4W5"
      },
      "execution_count": 115,
      "outputs": []
    },
    {
      "cell_type": "code",
      "source": [
        "class payment:\n",
        "  def __init__(self, customer_id, datetime, amount_due):\n",
        "    self.customer_id = customer_id\n",
        "    self.payments_datetime = datetime\n",
        "    self.amount_due = amount_due\n",
        "  \n",
        "  def amount(self):\n",
        "    try:\n",
        "      if self.amount_due < 1000:\n",
        "        return self.amount_due\n",
        "      return np.random.randint(self.amount_due/5,self.amount_due,size=(1, 1))[0][0]\n",
        "    except:\n",
        "      pass"
      ],
      "metadata": {
        "id": "fwB64jlKf7p4"
      },
      "execution_count": 102,
      "outputs": []
    },
    {
      "cell_type": "code",
      "source": [
        "payments_df = pd.DataFrame([], columns = [\"Customer ID\", \"Payments Datetime\", \"Payment Amount\"])\n",
        "for i in pd.date_range(\"2008-01-02\",\"2008-01-20\",freq='d'):\n",
        "  temp = sales_df[sales_df[\"Order Entry Datetime\"] < i]\n",
        "  for j in range(np.random.randint(5,100,size=(1, 1))[0][0]):\n",
        "    customer_id = random.choice(list(set(temp[\"Customer ID\"])))\n",
        "    customer_account = account(customer_id, i)\n",
        "    payment_instance = payment(customer_id, i, customer_account.amount_due)\n",
        "    payment_amount = payment_instance.amount()\n",
        "    if payment_amount > 0:\n",
        "      payments_df = payments_df.append(pd.DataFrame([[customer_id, i, payment_amount]], columns = [\"Customer ID\", \"Payments Datetime\", \"Payment Amount\"]), ignore_index=True)\n",
        "  "
      ],
      "metadata": {
        "id": "4NLe8yJygI4x"
      },
      "execution_count": 118,
      "outputs": []
    },
    {
      "cell_type": "code",
      "source": [
        "class Location:\n",
        "\n",
        "    def __init__(self, name, height, since):\n",
        "        self.name = name\n",
        "        self.height = height\n",
        "        self.since = since\n",
        "\n",
        "Akron = Location(\"Akron\",\"branch\",2006)\n",
        "Scranton = Location(\"Scranton\",\"branch\",2006)\n",
        "Camden = Location(\"Camden\",\"former_branch\"2005)\n",
        "Buffalo = Location(\"Buffalo\",\"former_branch\",2000)\n",
        "Rochester = Location(\"Rochester\",\"branch\",2004)\n",
        "Utica = Location(\"Utica\",\"branch\",2002)\n",
        "Albany = Location(\"Albany\",\"branch\",2003)\n",
        "Syracuse = Location(\"Syracuse\",\"branch\",2007)\n",
        "Binghamton = Location(\"Binghamton\",\"former_branch\",2000)\n",
        "Pittsfield = Location(\"Pittsfield\",\"former_branch\",2000)\n",
        "Nashua = Location(\"Nashua\",\"branch\",2010)\n",
        "Stamford = Location(\"Stamford\",\"former_branch\",2011)\n",
        "Yonkers = Location(\"Yonkers\",\"former_branch\",2009)\n",
        "New_york = Location(\"New_york\",\"Headquarters\",1997)"
      ],
      "metadata": {
        "id": "XZIT2b70gJKk"
      },
      "execution_count": null,
      "outputs": []
    },
    {
      "cell_type": "markdown",
      "source": [
        "**Store it all in a DB**\n"
      ],
      "metadata": {
        "id": "jBB2HDvVFhb_"
      }
    },
    {
      "cell_type": "code",
      "source": [
        "from google.colab import drive\n",
        "drive.mount('/content/drive')"
      ],
      "metadata": {
        "colab": {
          "base_uri": "https://localhost:8080/"
        },
        "id": "xG-CequeQO6J",
        "outputId": "de811732-61bc-404a-c6b9-56ca3491cfc4"
      },
      "execution_count": 121,
      "outputs": [
        {
          "output_type": "stream",
          "name": "stdout",
          "text": [
            "Mounted at /content/drive\n"
          ]
        }
      ]
    },
    {
      "cell_type": "code",
      "source": [
        "import sqlite3\n",
        "from sqlite3 import Error\n",
        "\n",
        "\n",
        "def create_connection(db_file):\n",
        "    \"\"\" create a database connection to a SQLite database \"\"\"\n",
        "    conn = None\n",
        "    try:\n",
        "        conn = sqlite3.connect(db_file)\n",
        "        print(sqlite3.version)\n",
        "    except Error as e:\n",
        "        print(e)\n",
        "    finally:\n",
        "        if conn:\n",
        "            conn.close()\n",
        "\n",
        "\n",
        "if __name__ == '__main__':\n",
        "    create_connection(r\"/content/drive/My Drive/Colab Notebooks/dundermifflin.db\")\n"
      ],
      "metadata": {
        "colab": {
          "base_uri": "https://localhost:8080/"
        },
        "id": "Z5VQuC_hFl4n",
        "outputId": "f86134c3-c4fd-40f8-db3a-fad48d46fc68"
      },
      "execution_count": 126,
      "outputs": [
        {
          "output_type": "stream",
          "name": "stdout",
          "text": [
            "2.6.0\n"
          ]
        }
      ]
    },
    {
      "cell_type": "code",
      "source": [
        "def create_connection(db_file):\n",
        "    \"\"\" create a database connection to the SQLite database\n",
        "        specified by db_file\n",
        "    :param db_file: database file\n",
        "    :return: Connection object or None\n",
        "    \"\"\"\n",
        "    conn = None\n",
        "    try:\n",
        "        conn = sqlite3.connect(db_file)\n",
        "        return conn\n",
        "    except Error as e:\n",
        "        print(e)\n",
        "\n",
        "    return conn"
      ],
      "metadata": {
        "id": "FVFfcIIIWBww"
      },
      "execution_count": 127,
      "outputs": []
    },
    {
      "cell_type": "code",
      "source": [
        "def create_table(conn, create_table_sql):\n",
        "    \"\"\" create a table from the create_table_sql statement\n",
        "    :param conn: Connection object\n",
        "    :param create_table_sql: a CREATE TABLE statement\n",
        "    :return:\n",
        "    \"\"\"\n",
        "    try:\n",
        "        c = conn.cursor()\n",
        "        c.execute(create_table_sql)\n",
        "    except Error as e:\n",
        "        print(e)"
      ],
      "metadata": {
        "id": "tzFhsQjrWJE0"
      },
      "execution_count": 128,
      "outputs": []
    },
    {
      "cell_type": "code",
      "source": [
        "def main():\n",
        "    database = r\"/content/drive/My Drive/Colab Notebooks/dundermifflin.db\"\n",
        "\n",
        "    sql_create_projects_table = \"\"\" CREATE TABLE IF NOT EXISTS projects (\n",
        "                                        id integer PRIMARY KEY,\n",
        "                                        name text NOT NULL,\n",
        "                                        begin_date text,\n",
        "                                        end_date text\n",
        "                                    ); \"\"\"\n",
        "\n",
        "    sql_create_tasks_table = \"\"\"CREATE TABLE IF NOT EXISTS tasks (\n",
        "                                    id integer PRIMARY KEY,\n",
        "                                    name text NOT NULL,\n",
        "                                    priority integer,\n",
        "                                    status_id integer NOT NULL,\n",
        "                                    project_id integer NOT NULL,\n",
        "                                    begin_date text NOT NULL,\n",
        "                                    end_date text NOT NULL,\n",
        "                                    FOREIGN KEY (project_id) REFERENCES projects (id)\n",
        "                                );\"\"\"\n",
        "\n",
        "    # create a database connection\n",
        "    conn = create_connection(database)\n",
        "\n",
        "    # create tables\n",
        "    if conn is not None:\n",
        "        # create projects table\n",
        "        create_table(conn, sql_create_projects_table)\n",
        "\n",
        "        # create tasks table\n",
        "        create_table(conn, sql_create_tasks_table)\n",
        "    else:\n",
        "        print(\"Error! cannot create the database connection.\")\n"
      ],
      "metadata": {
        "id": "BgzgAlSzFpMg"
      },
      "execution_count": 129,
      "outputs": []
    },
    {
      "cell_type": "code",
      "source": [
        ""
      ],
      "metadata": {
        "id": "HLH3YZ_XTbRm"
      },
      "execution_count": null,
      "outputs": []
    }
  ],
  "metadata": {
    "colab": {
      "name": "Dunder_Mifflin_Data_Generator.ipynb",
      "provenance": [],
      "collapsed_sections": [],
      "include_colab_link": true
    },
    "kernelspec": {
      "display_name": "Python 3 (ipykernel)",
      "language": "python",
      "name": "python3"
    },
    "language_info": {
      "codemirror_mode": {
        "name": "ipython",
        "version": 3
      },
      "file_extension": ".py",
      "mimetype": "text/x-python",
      "name": "python",
      "nbconvert_exporter": "python",
      "pygments_lexer": "ipython3",
      "version": "3.9.7"
    }
  },
  "nbformat": 4,
  "nbformat_minor": 0
}